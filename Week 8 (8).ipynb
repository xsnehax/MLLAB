{
 "cells": [
  {
   "cell_type": "code",
   "execution_count": 1,
   "id": "a1c5d594-dd5c-4a17-8e5f-bd2a323eb526",
   "metadata": {},
   "outputs": [],
   "source": [
    "import numpy as np\n",
    "X=np.array(([2,9],[1,5],[3,6]), dtype=float)\n",
    "y=np.array(([92],[86],[89]), dtype=float)\n",
    "X=X/np.amax(X,axis=0)\n",
    "y=y/100"
   ]
  },
  {
   "cell_type": "code",
   "execution_count": 2,
   "id": "84d4dbcf-3935-440d-9dae-0116647ca24b",
   "metadata": {},
   "outputs": [],
   "source": [
    "epoch=5000\n",
    "lr=0.1\n",
    "inputlayer_neurons=2\n",
    "hiddenlayer_neurons=3\n",
    "output_neurons=1"
   ]
  },
  {
   "cell_type": "code",
   "execution_count": 3,
   "id": "9475e82b-6512-4909-8e69-41727f8f1577",
   "metadata": {},
   "outputs": [],
   "source": [
    "wh=np.random.uniform(size=(inputlayer_neurons,hiddenlayer_neurons))\n",
    "bh=np.random.uniform(size=(1,hiddenlayer_neurons))\n",
    "wout=np.random.uniform(size=(hiddenlayer_neurons,output_neurons))\n",
    "bout=np.random.uniform(size=(1,output_neurons))"
   ]
  },
  {
   "cell_type": "code",
   "execution_count": 4,
   "id": "017d5853-e0f5-4a58-91ba-9bb756a745fb",
   "metadata": {},
   "outputs": [],
   "source": [
    "def sigmoid(x):\n",
    "    return 1/(1+np.exp(-x))\n",
    "\n",
    "def derivatives_sigmoid(x):\n",
    "    return x*(1-x)"
   ]
  },
  {
   "cell_type": "code",
   "execution_count": 7,
   "id": "d4e87a9e-8e00-4799-9e6a-a74d629cd270",
   "metadata": {},
   "outputs": [],
   "source": [
    "for i in range(epoch):\n",
    "    hinp1=np.dot(X,wh)\n",
    "    hinp=hinp1+bh\n",
    "    hlayer_act=sigmoid(hinp)\n",
    "    outinp1=np.dot(hlayer_act,wout)\n",
    "    outinp=outinp1+bout\n",
    "    output=sigmoid(outinp)\n",
    "    EO=y-output\n",
    "    outgrad=derivatives_sigmoid(output)\n",
    "    d_output=EO*outgrad\n",
    "    EH=d_output.dot(wout.T)\n",
    "    hiddengrad=derivatives_sigmoid(hlayer_act)\n",
    "    d_hiddenlayer=EH*hiddengrad"
   ]
  },
  {
   "cell_type": "code",
   "execution_count": 11,
   "id": "954a7e7a-a23f-4b8c-8696-3f302864da26",
   "metadata": {},
   "outputs": [],
   "source": [
    "wout += hlayer_act.T.dot(d_output) *lr\n",
    "wh += X.T.dot(d_hiddenlayer) *lr"
   ]
  },
  {
   "cell_type": "code",
   "execution_count": 12,
   "id": "a6eedcab-859f-4e2a-9ead-1289e0d7801b",
   "metadata": {},
   "outputs": [
    {
     "name": "stdout",
     "output_type": "stream",
     "text": [
      "Input: \n",
      "[[0.66666667 1.        ]\n",
      " [0.33333333 0.55555556]\n",
      " [1.         0.66666667]]\n",
      "Actual Output: \n",
      "[[0.92]\n",
      " [0.86]\n",
      " [0.89]]\n",
      "Predicted Output: \n",
      " [[0.76630321]\n",
      " [0.75772239]\n",
      " [0.76682594]]\n"
     ]
    }
   ],
   "source": [
    "print(\"Input: \\n\" +str(X))\n",
    "print(\"Actual Output: \\n\" +str(y))\n",
    "print(\"Predicted Output: \\n\", output)"
   ]
  },
  {
   "cell_type": "code",
   "execution_count": null,
   "id": "d1be07e8-237d-43e2-a916-b9bcff2cd273",
   "metadata": {},
   "outputs": [],
   "source": []
  }
 ],
 "metadata": {
  "kernelspec": {
   "display_name": "Python 3 (ipykernel)",
   "language": "python",
   "name": "python3"
  },
  "language_info": {
   "codemirror_mode": {
    "name": "ipython",
    "version": 3
   },
   "file_extension": ".py",
   "mimetype": "text/x-python",
   "name": "python",
   "nbconvert_exporter": "python",
   "pygments_lexer": "ipython3",
   "version": "3.11.7"
  }
 },
 "nbformat": 4,
 "nbformat_minor": 5
}
